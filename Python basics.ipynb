{
 "cells": [
  {
   "cell_type": "markdown",
   "id": "4e1e8451",
   "metadata": {},
   "source": [
    "# Python basics"
   ]
  },
  {
   "cell_type": "code",
   "execution_count": 1,
   "id": "e4a91e91",
   "metadata": {},
   "outputs": [
    {
     "data": {
      "text/plain": [
       "8"
      ]
     },
     "execution_count": 1,
     "metadata": {},
     "output_type": "execute_result"
    }
   ],
   "source": [
    "2*4"
   ]
  },
  {
   "cell_type": "code",
   "execution_count": 1,
   "id": "1a471d80",
   "metadata": {},
   "outputs": [
    {
     "name": "stdout",
     "output_type": "stream",
     "text": [
      "this is my first python code\n"
     ]
    }
   ],
   "source": [
    "print('this is my first python code')"
   ]
  },
  {
   "cell_type": "code",
   "execution_count": 2,
   "id": "71f286dc",
   "metadata": {},
   "outputs": [],
   "source": [
    "#this is the heading"
   ]
  },
  {
   "cell_type": "code",
   "execution_count": 3,
   "id": "65e49a39",
   "metadata": {},
   "outputs": [],
   "source": [
    "#this is the heading"
   ]
  },
  {
   "cell_type": "markdown",
   "id": "6df8bd14",
   "metadata": {},
   "source": [
    "# this is the heading"
   ]
  },
  {
   "cell_type": "markdown",
   "id": "9200d87d",
   "metadata": {},
   "source": [
    "## this is the second heading\n"
   ]
  },
  {
   "cell_type": "code",
   "execution_count": 4,
   "id": "d5d1664f",
   "metadata": {},
   "outputs": [],
   "source": [
    "a = 10"
   ]
  },
  {
   "cell_type": "code",
   "execution_count": 5,
   "id": "a7994504",
   "metadata": {},
   "outputs": [
    {
     "data": {
      "text/plain": [
       "int"
      ]
     },
     "execution_count": 5,
     "metadata": {},
     "output_type": "execute_result"
    }
   ],
   "source": [
    "type(a)"
   ]
  },
  {
   "cell_type": "code",
   "execution_count": 6,
   "id": "bf100374",
   "metadata": {},
   "outputs": [
    {
     "name": "stdout",
     "output_type": "stream",
     "text": [
      "10\n"
     ]
    }
   ],
   "source": [
    "print(a)"
   ]
  },
  {
   "cell_type": "code",
   "execution_count": 7,
   "id": "cffb6f2f",
   "metadata": {},
   "outputs": [],
   "source": [
    "z=1.6"
   ]
  },
  {
   "cell_type": "code",
   "execution_count": 8,
   "id": "ccb205bc",
   "metadata": {},
   "outputs": [
    {
     "data": {
      "text/plain": [
       "float"
      ]
     },
     "execution_count": 8,
     "metadata": {},
     "output_type": "execute_result"
    }
   ],
   "source": [
    "type(z)"
   ]
  },
  {
   "cell_type": "code",
   "execution_count": 9,
   "id": "a2903ba1",
   "metadata": {},
   "outputs": [
    {
     "name": "stdout",
     "output_type": "stream",
     "text": [
      "2\n"
     ]
    }
   ],
   "source": [
    "print(True+True+False)"
   ]
  },
  {
   "cell_type": "code",
   "execution_count": 10,
   "id": "ea368bda",
   "metadata": {},
   "outputs": [],
   "source": [
    "ab=2"
   ]
  },
  {
   "cell_type": "code",
   "execution_count": 11,
   "id": "bd24faf8",
   "metadata": {},
   "outputs": [
    {
     "name": "stdout",
     "output_type": "stream",
     "text": [
      "2\n"
     ]
    }
   ],
   "source": [
    "print(ab)"
   ]
  },
  {
   "cell_type": "code",
   "execution_count": 12,
   "id": "0f5b2fa0",
   "metadata": {},
   "outputs": [],
   "source": [
    "first_name= 'vedang'\n",
    "last_name= 'kapil'"
   ]
  },
  {
   "cell_type": "code",
   "execution_count": 13,
   "id": "ebb7d476",
   "metadata": {},
   "outputs": [
    {
     "name": "stdout",
     "output_type": "stream",
     "text": [
      "my first name is vedang and my last name is kapil\n"
     ]
    }
   ],
   "source": [
    "print('my first name is {} and my last name is {}'.format(first_name , last_name))"
   ]
  },
  {
   "cell_type": "code",
   "execution_count": 14,
   "id": "f545476b",
   "metadata": {},
   "outputs": [
    {
     "name": "stdout",
     "output_type": "stream",
     "text": [
      "my first name is vedang and my last name is kapil\n"
     ]
    }
   ],
   "source": [
    "print('my first name is {} and my last name is {}'.format(first_name , last_name))"
   ]
  },
  {
   "cell_type": "code",
   "execution_count": 68,
   "id": "44330eb5",
   "metadata": {},
   "outputs": [],
   "source": [
    "#List and its functions\n",
    "lst1=['mw', '100', 'hello']"
   ]
  },
  {
   "cell_type": "code",
   "execution_count": 16,
   "id": "6295a130",
   "metadata": {},
   "outputs": [],
   "source": [
    "lst1.append(\"msg\")"
   ]
  },
  {
   "cell_type": "code",
   "execution_count": 17,
   "id": "e9fe35c5",
   "metadata": {},
   "outputs": [
    {
     "name": "stdout",
     "output_type": "stream",
     "text": [
      "['mw', '100', 'hello', 'msg']\n"
     ]
    }
   ],
   "source": [
    "print(lst1)"
   ]
  },
  {
   "cell_type": "code",
   "execution_count": 18,
   "id": "1409e511",
   "metadata": {},
   "outputs": [],
   "source": [
    "lst2=[1,2]"
   ]
  },
  {
   "cell_type": "code",
   "execution_count": 19,
   "id": "4a075205",
   "metadata": {},
   "outputs": [],
   "source": [
    "lst2.append(3)"
   ]
  },
  {
   "cell_type": "code",
   "execution_count": 63,
   "id": "acfb004f",
   "metadata": {},
   "outputs": [
    {
     "data": {
      "text/plain": [
       "[2, 1, 'msg', 400, '100', 'z', 'mw', 1, 2, 3]"
      ]
     },
     "execution_count": 63,
     "metadata": {},
     "output_type": "execute_result"
    }
   ],
   "source": [
    "lst1.extend(lst2)\n",
    "lst1"
   ]
  },
  {
   "cell_type": "code",
   "execution_count": 64,
   "id": "05107bbc",
   "metadata": {},
   "outputs": [
    {
     "data": {
      "text/plain": [
       "[2, 1, 'msg', 400, '100', 'z', 'mw', 1, 2, 3]"
      ]
     },
     "execution_count": 64,
     "metadata": {},
     "output_type": "execute_result"
    }
   ],
   "source": [
    "lst1[:]"
   ]
  },
  {
   "cell_type": "code",
   "execution_count": 65,
   "id": "05c9c95f",
   "metadata": {},
   "outputs": [
    {
     "data": {
      "text/plain": [
       "[2, 1, 'msg', 400, '100', 'z', 'mw', 1, 2, 3]"
      ]
     },
     "execution_count": 65,
     "metadata": {},
     "output_type": "execute_result"
    }
   ],
   "source": [
    "lst1[:]"
   ]
  },
  {
   "cell_type": "code",
   "execution_count": 67,
   "id": "c9169e1a",
   "metadata": {},
   "outputs": [
    {
     "data": {
      "text/plain": [
       "[2, 1, 400, 400, '100', 'z', 'mw', 1, 2, 3]"
      ]
     },
     "execution_count": 67,
     "metadata": {},
     "output_type": "execute_result"
    }
   ],
   "source": [
    "lst1[2]=400\n",
    "lst1"
   ]
  },
  {
   "cell_type": "code",
   "execution_count": null,
   "id": "735c8641",
   "metadata": {},
   "outputs": [],
   "source": []
  },
  {
   "cell_type": "code",
   "execution_count": 25,
   "id": "9978b930",
   "metadata": {},
   "outputs": [
    {
     "data": {
      "text/plain": [
       "3"
      ]
     },
     "execution_count": 25,
     "metadata": {},
     "output_type": "execute_result"
    }
   ],
   "source": [
    "lst1.pop()"
   ]
  },
  {
   "cell_type": "code",
   "execution_count": 26,
   "id": "da3814f1",
   "metadata": {},
   "outputs": [
    {
     "data": {
      "text/plain": [
       "['mw', '100', 400, 'msg', 1, 2]"
      ]
     },
     "execution_count": 26,
     "metadata": {},
     "output_type": "execute_result"
    }
   ],
   "source": [
    "lst1"
   ]
  },
  {
   "cell_type": "code",
   "execution_count": 27,
   "id": "ba5ab61a",
   "metadata": {},
   "outputs": [],
   "source": [
    "lst1.insert(1,\"z\")"
   ]
  },
  {
   "cell_type": "code",
   "execution_count": 28,
   "id": "91f6b403",
   "metadata": {},
   "outputs": [
    {
     "data": {
      "text/plain": [
       "['mw', 'z', '100', 400, 'msg', 1, 2]"
      ]
     },
     "execution_count": 28,
     "metadata": {},
     "output_type": "execute_result"
    }
   ],
   "source": [
    "lst1"
   ]
  },
  {
   "cell_type": "code",
   "execution_count": 29,
   "id": "563ad140",
   "metadata": {},
   "outputs": [
    {
     "data": {
      "text/plain": [
       "1"
      ]
     },
     "execution_count": 29,
     "metadata": {},
     "output_type": "execute_result"
    }
   ],
   "source": [
    "lst1.count(1)"
   ]
  },
  {
   "cell_type": "code",
   "execution_count": 30,
   "id": "b5ef2a09",
   "metadata": {},
   "outputs": [
    {
     "data": {
      "text/plain": [
       "[2, 1, 'msg', 400, '100', 'z', 'mw']"
      ]
     },
     "execution_count": 30,
     "metadata": {},
     "output_type": "execute_result"
    }
   ],
   "source": [
    "lst1.reverse()\n",
    "lst1"
   ]
  },
  {
   "cell_type": "code",
   "execution_count": 31,
   "id": "2eb13780",
   "metadata": {},
   "outputs": [],
   "source": [
    "from collections import deque"
   ]
  },
  {
   "cell_type": "code",
   "execution_count": 32,
   "id": "2318293a",
   "metadata": {},
   "outputs": [],
   "source": [
    "queue= deque(lst1)"
   ]
  },
  {
   "cell_type": "code",
   "execution_count": 33,
   "id": "ac68cef9",
   "metadata": {},
   "outputs": [
    {
     "data": {
      "text/plain": [
       "deque([2, 1, 'msg', 400, '100', 'z', 'mw', 3])"
      ]
     },
     "execution_count": 33,
     "metadata": {},
     "output_type": "execute_result"
    }
   ],
   "source": [
    "queue.append(3)\n",
    "queue"
   ]
  },
  {
   "cell_type": "code",
   "execution_count": 34,
   "id": "20a15f75",
   "metadata": {},
   "outputs": [
    {
     "data": {
      "text/plain": [
       "deque([40, 2, 1, 'msg', 400, '100', 'z', 'mw', 3])"
      ]
     },
     "execution_count": 34,
     "metadata": {},
     "output_type": "execute_result"
    }
   ],
   "source": [
    "queue.appendleft(40)\n",
    "queue"
   ]
  },
  {
   "cell_type": "code",
   "execution_count": 35,
   "id": "2cea640b",
   "metadata": {},
   "outputs": [],
   "source": [
    "string= 'vedangkapil'"
   ]
  },
  {
   "cell_type": "code",
   "execution_count": 36,
   "id": "99f88e09",
   "metadata": {},
   "outputs": [
    {
     "data": {
      "text/plain": [
       "'veda'"
      ]
     },
     "execution_count": 36,
     "metadata": {},
     "output_type": "execute_result"
    }
   ],
   "source": [
    "string[:4]"
   ]
  },
  {
   "cell_type": "code",
   "execution_count": 37,
   "id": "b6e5ea81",
   "metadata": {},
   "outputs": [
    {
     "data": {
      "text/plain": [
       "11"
      ]
     },
     "execution_count": 37,
     "metadata": {},
     "output_type": "execute_result"
    }
   ],
   "source": [
    "len(string)"
   ]
  },
  {
   "cell_type": "code",
   "execution_count": 38,
   "id": "95c7664f",
   "metadata": {
    "scrolled": true
   },
   "outputs": [
    {
     "data": {
      "text/plain": [
       "1"
      ]
     },
     "execution_count": 38,
     "metadata": {},
     "output_type": "execute_result"
    }
   ],
   "source": [
    "string.count('e')"
   ]
  },
  {
   "cell_type": "code",
   "execution_count": 69,
   "id": "c2eea7b7",
   "metadata": {},
   "outputs": [],
   "source": [
    "#Sets\n",
    "set_var1= {1,2,3,4,5}"
   ]
  },
  {
   "cell_type": "code",
   "execution_count": 40,
   "id": "b2663049",
   "metadata": {},
   "outputs": [],
   "source": [
    "set_var2= {1,2,3,43,45}"
   ]
  },
  {
   "cell_type": "code",
   "execution_count": 41,
   "id": "c2ca7ae6",
   "metadata": {},
   "outputs": [],
   "source": [
    "set_var2.difference_update(set_var1)"
   ]
  },
  {
   "cell_type": "code",
   "execution_count": 42,
   "id": "cdd6ba9d",
   "metadata": {},
   "outputs": [
    {
     "data": {
      "text/plain": [
       "{43, 45}"
      ]
     },
     "execution_count": 42,
     "metadata": {},
     "output_type": "execute_result"
    }
   ],
   "source": [
    "set_var2"
   ]
  },
  {
   "cell_type": "code",
   "execution_count": 43,
   "id": "25f1dc0d",
   "metadata": {},
   "outputs": [],
   "source": [
    "set_var2.intersection_update(set_var1)"
   ]
  },
  {
   "cell_type": "code",
   "execution_count": 44,
   "id": "15b7d431",
   "metadata": {},
   "outputs": [
    {
     "data": {
      "text/plain": [
       "set()"
      ]
     },
     "execution_count": 44,
     "metadata": {},
     "output_type": "execute_result"
    }
   ],
   "source": [
    "set_var2"
   ]
  },
  {
   "cell_type": "code",
   "execution_count": 71,
   "id": "30509318",
   "metadata": {},
   "outputs": [],
   "source": [
    "# Dictionary\n",
    "dict_1 = {\"car1\":\"audi\", \"car2\":\"bmw\", \"car3\":\"skoda\", \"car4\":\"nissan\"}"
   ]
  },
  {
   "cell_type": "code",
   "execution_count": 46,
   "id": "e2936d89",
   "metadata": {},
   "outputs": [
    {
     "data": {
      "text/plain": [
       "{'car1': 'audi', 'car2': 'bmw', 'car3': 'skoda', 'car4': 'nissan'}"
      ]
     },
     "execution_count": 46,
     "metadata": {},
     "output_type": "execute_result"
    }
   ],
   "source": [
    "dict_1"
   ]
  },
  {
   "cell_type": "code",
   "execution_count": 47,
   "id": "3401eb19",
   "metadata": {},
   "outputs": [
    {
     "name": "stdout",
     "output_type": "stream",
     "text": [
      "('car1', 'audi')\n",
      "('car2', 'bmw')\n",
      "('car3', 'skoda')\n",
      "('car4', 'nissan')\n"
     ]
    }
   ],
   "source": [
    "for x in dict_1.items():\n",
    "    print(x)"
   ]
  },
  {
   "cell_type": "code",
   "execution_count": 48,
   "id": "6def273b",
   "metadata": {},
   "outputs": [
    {
     "name": "stdout",
     "output_type": "stream",
     "text": [
      "audi\n",
      "bmw\n",
      "skoda\n",
      "nissan\n"
     ]
    }
   ],
   "source": [
    "for x in dict_1.values():\n",
    "    print(x)"
   ]
  },
  {
   "cell_type": "code",
   "execution_count": 49,
   "id": "4116741e",
   "metadata": {},
   "outputs": [
    {
     "data": {
      "text/plain": [
       "{'car1': 'Audi2.0', 'car2': 'bmw', 'car3': 'skoda', 'car4': 'nissan'}"
      ]
     },
     "execution_count": 49,
     "metadata": {},
     "output_type": "execute_result"
    }
   ],
   "source": [
    "dict_1['car1']= 'Audi2.0'\n",
    "dict_1"
   ]
  },
  {
   "cell_type": "code",
   "execution_count": 50,
   "id": "df8f271b",
   "metadata": {},
   "outputs": [],
   "source": [
    "dict_2= {}"
   ]
  },
  {
   "cell_type": "markdown",
   "id": "50c0827f",
   "metadata": {},
   "source": [
    "# functions\n"
   ]
  },
  {
   "cell_type": "code",
   "execution_count": 51,
   "id": "53d0e62c",
   "metadata": {},
   "outputs": [],
   "source": [
    "def even_odd(num):\n",
    "    if num%2==0:\n",
    "        print('number is even')\n",
    "    else:\n",
    "        print('nmber is odd')"
   ]
  },
  {
   "cell_type": "code",
   "execution_count": 52,
   "id": "eab14829",
   "metadata": {},
   "outputs": [
    {
     "name": "stdout",
     "output_type": "stream",
     "text": [
      "number is even\n"
     ]
    }
   ],
   "source": [
    "even_odd(20)"
   ]
  },
  {
   "cell_type": "code",
   "execution_count": 53,
   "id": "63423984",
   "metadata": {},
   "outputs": [],
   "source": [
    "def welcome():\n",
    "    return \"hello world\""
   ]
  },
  {
   "cell_type": "code",
   "execution_count": 74,
   "id": "fbe5421e",
   "metadata": {},
   "outputs": [
    {
     "name": "stdout",
     "output_type": "stream",
     "text": [
      "kapil\n"
     ]
    }
   ],
   "source": [
    "a=welcome()\n"
   ]
  },
  {
   "cell_type": "code",
   "execution_count": 55,
   "id": "68460824",
   "metadata": {},
   "outputs": [
    {
     "data": {
      "text/plain": [
       "'hello world'"
      ]
     },
     "execution_count": 55,
     "metadata": {},
     "output_type": "execute_result"
    }
   ],
   "source": [
    "a"
   ]
  },
  {
   "cell_type": "code",
   "execution_count": 56,
   "id": "8bc6e0c8",
   "metadata": {},
   "outputs": [],
   "source": [
    "def welcome():\n",
    "    print('kapil')"
   ]
  },
  {
   "cell_type": "code",
   "execution_count": 57,
   "id": "46508ada",
   "metadata": {},
   "outputs": [
    {
     "name": "stdout",
     "output_type": "stream",
     "text": [
      "kapil\n"
     ]
    }
   ],
   "source": [
    "a=welcome()\n",
    "a"
   ]
  },
  {
   "cell_type": "code",
   "execution_count": 58,
   "id": "7729df58",
   "metadata": {},
   "outputs": [
    {
     "data": {
      "text/plain": [
       "NoneType"
      ]
     },
     "execution_count": 58,
     "metadata": {},
     "output_type": "execute_result"
    }
   ],
   "source": [
    "type(a)"
   ]
  },
  {
   "cell_type": "code",
   "execution_count": 59,
   "id": "c63acdea",
   "metadata": {},
   "outputs": [],
   "source": [
    "import numpy as np"
   ]
  },
  {
   "cell_type": "code",
   "execution_count": 60,
   "id": "6a0e0b53",
   "metadata": {},
   "outputs": [],
   "source": [
    "my_list=[1,2,3,4,5]\n",
    "arr=np.array(my_list)"
   ]
  },
  {
   "cell_type": "code",
   "execution_count": 61,
   "id": "39260941",
   "metadata": {},
   "outputs": [
    {
     "data": {
      "text/plain": [
       "array([1, 2, 3, 4, 5])"
      ]
     },
     "execution_count": 61,
     "metadata": {},
     "output_type": "execute_result"
    }
   ],
   "source": [
    "arr\n"
   ]
  },
  {
   "cell_type": "code",
   "execution_count": null,
   "id": "b6302a7e",
   "metadata": {},
   "outputs": [],
   "source": []
  },
  {
   "cell_type": "code",
   "execution_count": null,
   "id": "ccc613de",
   "metadata": {},
   "outputs": [],
   "source": []
  }
 ],
 "metadata": {
  "kernelspec": {
   "display_name": "Python 3 (ipykernel)",
   "language": "python",
   "name": "python3"
  },
  "language_info": {
   "codemirror_mode": {
    "name": "ipython",
    "version": 3
   },
   "file_extension": ".py",
   "mimetype": "text/x-python",
   "name": "python",
   "nbconvert_exporter": "python",
   "pygments_lexer": "ipython3",
   "version": "3.9.12"
  }
 },
 "nbformat": 4,
 "nbformat_minor": 5
}
